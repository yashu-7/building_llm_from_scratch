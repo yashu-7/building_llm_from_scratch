{
 "cells": [
  {
   "cell_type": "markdown",
   "id": "fa183c49",
   "metadata": {},
   "source": [
    "\n",
    "# Self-Attention"
   ]
  },
  {
   "cell_type": "markdown",
   "id": "bcab6ae8",
   "metadata": {},
   "source": [
    "### Imports"
   ]
  },
  {
   "cell_type": "code",
   "execution_count": 15,
   "id": "6f82c5e9",
   "metadata": {},
   "outputs": [],
   "source": [
    "import math\n",
    "import torch\n",
    "import numpy as np\n",
    "import seaborn as sns\n",
    "import torch.nn as nn\n",
    "import matplotlib.pyplot as plt\n",
    "import torch.nn.functional as F"
   ]
  },
  {
   "cell_type": "markdown",
   "id": "ca692ab2",
   "metadata": {},
   "source": [
    "### Sample tokens"
   ]
  },
  {
   "cell_type": "code",
   "execution_count": 6,
   "id": "f6ddf597",
   "metadata": {},
   "outputs": [
    {
     "name": "stdout",
     "output_type": "stream",
     "text": [
      "torch.Size([1, 4, 8])\n",
      "tensor([[[0.4492, 0.7482, 0.9743, 0.4902, 0.6882, 0.8261, 0.7019, 0.8905],\n",
      "         [0.7696, 0.6936, 0.1931, 0.6424, 0.8692, 0.5552, 0.1341, 0.5968],\n",
      "         [0.9755, 0.1883, 0.1096, 0.6984, 0.9670, 0.2767, 0.5880, 0.7962],\n",
      "         [0.6338, 0.5378, 0.5925, 0.4842, 0.1024, 0.8688, 0.8972, 0.7544]]])\n"
     ]
    }
   ],
   "source": [
    "x = torch.rand((1, 4, 8), dtype=torch.float)\n",
    "print(x.shape)\n",
    "print(x)"
   ]
  },
  {
   "cell_type": "markdown",
   "id": "a70b4120",
   "metadata": {},
   "source": [
    "### Attention class"
   ]
  },
  {
   "cell_type": "code",
   "execution_count": 21,
   "id": "71547c4e",
   "metadata": {},
   "outputs": [],
   "source": [
    "class SelfAttention(nn.Module):\n",
    "    def __init__(self, embed_dim):\n",
    "        super().__init__()\n",
    "        self.embed_dim = embed_dim\n",
    "\n",
    "        self.Q = nn.Linear(self.embed_dim, self.embed_dim, bias=False)\n",
    "        self.K = nn.Linear(self.embed_dim, self.embed_dim, bias=False)\n",
    "        self.V = nn.Linear(self.embed_dim, self.embed_dim, bias=False)\n",
    "\n",
    "    def forward(self, x):\n",
    "        Query = self.Q(x)\n",
    "        Key = self.K(x)\n",
    "        Value = self.V(x)\n",
    "\n",
    "        attention_scores = Query@Key.transpose(-2,-1)\n",
    "        \n",
    "        print(f\"ATTENTION SCORES SIZE: {attention_scores.shape}\")\n",
    "        print(f\"KEY SIZE: {Key.size(-1)}\")\n",
    "        \n",
    "        scaled_attn_scores = attention_scores/math.sqrt(Key.size(-1))\n",
    "\n",
    "        print(f\"SCALED ATTN SHAPE: {scaled_attn_scores.shape}\")\n",
    "        \n",
    "        normalized_attn_scores = F.softmax(scaled_attn_scores, dim=-1)\n",
    "        \n",
    "        print(f\"NORMALIZED ATTN SCORES: {normalized_attn_scores.shape}\")\n",
    "        \n",
    "        output = normalized_attn_scores @ Value\n",
    "        \n",
    "        return output"
   ]
  },
  {
   "cell_type": "markdown",
   "id": "162e1b9d",
   "metadata": {},
   "source": [
    "### Usage"
   ]
  },
  {
   "cell_type": "code",
   "execution_count": 22,
   "id": "1dca237b",
   "metadata": {},
   "outputs": [
    {
     "name": "stdout",
     "output_type": "stream",
     "text": [
      "INPUT SHAPE: torch.Size([1, 4, 8])\n",
      "ATTENTION SCORES SIZE: torch.Size([1, 4, 4])\n",
      "KEY SIZE: 8\n",
      "SCALED ATTN SHAPE: torch.Size([1, 4, 4])\n",
      "NORMALIZED ATTN SCORES: torch.Size([1, 4, 4])\n",
      "tensor([[[ 0.4011, -0.0682, -0.4155,  0.3873,  0.0694, -0.4069,  0.0800,\n",
      "          -0.3721],\n",
      "         [ 0.4010, -0.0681, -0.4156,  0.3873,  0.0696, -0.4066,  0.0796,\n",
      "          -0.3714],\n",
      "         [ 0.4014, -0.0687, -0.4149,  0.3882,  0.0693, -0.4073,  0.0805,\n",
      "          -0.3725],\n",
      "         [ 0.3999, -0.0670, -0.4165,  0.3859,  0.0703, -0.4055,  0.0780,\n",
      "          -0.3694]]], grad_fn=<UnsafeViewBackward0>)\n",
      "torch.Size([1, 4, 8])\n"
     ]
    }
   ],
   "source": [
    "attn = SelfAttention(8)\n",
    "print(f\"INPUT SHAPE: {x.shape}\")\n",
    "output = attn.forward(x)\n",
    "print(output)\n",
    "print(output.shape)"
   ]
  },
  {
   "cell_type": "code",
   "execution_count": 32,
   "id": "ed1c0fae",
   "metadata": {},
   "outputs": [
    {
     "name": "stdout",
     "output_type": "stream",
     "text": [
      "ATTENTION SCORES SIZE: torch.Size([2, 2])\n",
      "KEY SIZE: 8\n",
      "SCALED ATTN SHAPE: torch.Size([2, 2])\n",
      "NORMALIZED ATTN SCORES: torch.Size([2, 2])\n"
     ]
    }
   ],
   "source": [
    "token_embed = torch.rand((2,8), dtype=torch.float)\n",
    "\n",
    "attn = SelfAttention(8)\n",
    "\n",
    "output = attn.forward(token_embed)"
   ]
  },
  {
   "cell_type": "code",
   "execution_count": 33,
   "id": "4e88256b",
   "metadata": {},
   "outputs": [
    {
     "data": {
      "text/plain": [
       "[Text(0.5, 1.0, 'Attention Weights Heatmap'),\n",
       " Text(0.5, 158.72222222222223, 'Key Tokens'),\n",
       " Text(50.722222222222214, 0.5, 'Query Tokens')]"
      ]
     },
     "execution_count": 33,
     "metadata": {},
     "output_type": "execute_result"
    },
    {
     "data": {
      "image/png": "[encoded data removed]",
      "text/plain": [
       "<Figure size 640x480 with 2 Axes>"
      ]
     },
     "metadata": {},
     "output_type": "display_data"
    }
   ],
   "source": [
    "sns.set_style(\"whitegrid\")\n",
    "heatmap = sns.heatmap(\n",
    "    data=output.detach().numpy(),\n",
    "    cmap='viridis',\n",
    "    annot=False,\n",
    "    square=True,\n",
    "    cbar_kws={\"label\": \"Attention Weight\"}\n",
    ")\n",
    "heatmap.set(title=\"Attention Weights Heatmap\", xlabel='Key Tokens', ylabel='Query Tokens')"
   ]
  }
 ],
 "metadata": {
  "kernelspec": {
   "display_name": "Python 3",
   "language": "python",
   "name": "python3"
  },
  "language_info": {
   "codemirror_mode": {
    "name": "ipython",
    "version": 3
   },
   "file_extension": ".py",
   "mimetype": "text/x-python",
   "name": "python",
   "nbconvert_exporter": "python",
   "pygments_lexer": "ipython3",
   "version": "3.12.6"
  }
 },
 "nbformat": 4,
 "nbformat_minor": 5
}
